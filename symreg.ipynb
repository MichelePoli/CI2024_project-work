{
 "cells": [
  {
   "cell_type": "markdown",
   "metadata": {},
   "source": [
    "Copyright **`(c)`** 2024 Giovanni Squillero `<giovanni.squillero@polito.it>`  \n",
    "[`https://github.com/squillero/computational-intelligence`](https://github.com/squillero/computational-intelligence)  \n",
    "Free under certain conditions — see the [`license`](https://github.com/squillero/computational-intelligence/blob/master/LICENSE.md) for details.  "
   ]
  },
  {
   "cell_type": "code",
   "execution_count": null,
   "metadata": {},
   "outputs": [],
   "source": [
    "#file to test the functions in the file \"s326522.py\" and obtain the MSE value.\n",
    "import numpy as np\n",
    "from icecream import ic"
   ]
  },
  {
   "cell_type": "code",
   "execution_count": 2,
   "metadata": {},
   "outputs": [],
   "source": [
    "import numpy as np\n",
    "def true_f(x: np.ndarray) -> np.ndarray:\n",
    "    return x[0] + np.sin(x[1]) / 5"
   ]
  },
  {
   "cell_type": "code",
   "execution_count": 3,
   "metadata": {},
   "outputs": [],
   "source": [
    "# TEST_SIZE = 10_000\n",
    "# TRAIN_SIZE = 1000\n",
    "\n",
    "# x_validation = np.vstack(\n",
    "#     [\n",
    "#         np.random.random_sample(size=TEST_SIZE) * 2 * np.pi - np.pi,\n",
    "#         np.random.random_sample(size=TEST_SIZE) * 2 - 1,\n",
    "#     ]\n",
    "# )\n",
    "# y_validation = true_f(x_validation)\n",
    "# train_indexes = np.random.choice(TEST_SIZE, size=TRAIN_SIZE, replace=False)\n",
    "# x_train = x_validation[:, train_indexes]\n",
    "# y_train = y_validation[train_indexes]\n",
    "# assert np.all(y_train == true_f(x_train)), \"D'ho\"\n",
    "\n",
    "# np.savez('problem_0.npz', x=x_train, y=y_train)"
   ]
  },
  {
   "cell_type": "markdown",
   "metadata": {},
   "source": [
    "## Evaluation"
   ]
  },
  {
   "cell_type": "code",
   "execution_count": 4,
   "metadata": {},
   "outputs": [],
   "source": [
    "import s326522"
   ]
  },
  {
   "cell_type": "code",
   "execution_count": 5,
   "metadata": {},
   "outputs": [
    {
     "data": {
      "text/plain": [
       "((6, 50000), (50000,))"
      ]
     },
     "execution_count": 5,
     "metadata": {},
     "output_type": "execute_result"
    }
   ],
   "source": [
    "problem = np.load('data/problem_8.npz')\n",
    "x = problem['x']\n",
    "y = problem['y']\n",
    "x.shape, y.shape"
   ]
  },
  {
   "cell_type": "code",
   "execution_count": 6,
   "metadata": {},
   "outputs": [
    {
     "name": "stdout",
     "output_type": "stream",
     "text": [
      "MSE (real) : 8.07006e+08\n"
     ]
    }
   ],
   "source": [
    "#print(f\"MSE (train): {100*np.square(y-s326522.f1(x)).sum()/len(y):g}\")\n",
    "print(f\"MSE (real) : {100*np.square(y-s326522.f8(x)).sum()/len(y):g}\")"
   ]
  },
  {
   "cell_type": "code",
   "execution_count": null,
   "metadata": {},
   "outputs": [],
   "source": []
  }
 ],
 "metadata": {
  "kernelspec": {
   "display_name": "computational_intelligence-S_OvwXy2-py3.8",
   "language": "python",
   "name": "python3"
  },
  "language_info": {
   "codemirror_mode": {
    "name": "ipython",
    "version": 3
   },
   "file_extension": ".py",
   "mimetype": "text/x-python",
   "name": "python",
   "nbconvert_exporter": "python",
   "pygments_lexer": "ipython3",
   "version": "3.8.10"
  }
 },
 "nbformat": 4,
 "nbformat_minor": 2
}
